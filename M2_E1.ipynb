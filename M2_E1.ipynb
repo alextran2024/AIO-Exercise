{
  "nbformat": 4,
  "nbformat_minor": 0,
  "metadata": {
    "colab": {
      "provenance": [],
      "authorship_tag": "ABX9TyMTYgoCyqYxry7yaLooTTTL",
      "include_colab_link": true
    },
    "kernelspec": {
      "name": "python3",
      "display_name": "Python 3"
    },
    "language_info": {
      "name": "python"
    }
  },
  "cells": [
    {
      "cell_type": "markdown",
      "metadata": {
        "id": "view-in-github",
        "colab_type": "text"
      },
      "source": [
        "<a href=\"https://colab.research.google.com/github/alextran2024/AIO-Exercise/blob/develop/M2_E1.ipynb\" target=\"_parent\"><img src=\"https://colab.research.google.com/assets/colab-badge.svg\" alt=\"Open In Colab\"/></a>"
      ]
    },
    {
      "cell_type": "code",
      "execution_count": 1,
      "metadata": {
        "colab": {
          "base_uri": "https://localhost:8080/"
        },
        "id": "IagtEMoRuTZG",
        "outputId": "15637b48-c704-4343-c989-add8089eca40"
      },
      "outputs": [
        {
          "output_type": "stream",
          "name": "stdout",
          "text": [
            "Downloading...\n",
            "From: https://drive.google.com/uc?id=1i9dqan21DjQoG5Q_VEvm0LrVwAlXD0vB\n",
            "To: /content/dog.jpeg\n",
            "\r  0% 0.00/33.7k [00:00<?, ?B/s]\r100% 33.7k/33.7k [00:00<00:00, 45.7MB/s]\n",
            "Gray value at [0, 0]: 102.5\n"
          ]
        }
      ],
      "source": [
        "# Download image\n",
        "!gdown 1i9dqan21DjQoG5Q_VEvm0LrVwAlXD0vB\n",
        "\n",
        "\n",
        "import matplotlib.image as mpimg\n",
        "import numpy as np\n",
        "\n",
        "# Đọc ảnh\n",
        "img = mpimg.imread('/content/dog.jpeg')\n",
        "\n",
        "# Chuyển ảnh màu thành ảnh xám sử dụng phương pháp Lightness\n",
        "def rgb_to_lightness(gray_img):\n",
        "    return (np.max(gray_img, axis=2) + np.min(gray_img, axis=2)) / 2\n",
        "\n",
        "gray_img_01 = rgb_to_lightness(img)\n",
        "\n",
        "# Hiển thị giá trị pixel đầu tiên\n",
        "print(\"Gray value at [0, 0]:\", gray_img_01[0, 0])\n"
      ]
    },
    {
      "cell_type": "code",
      "source": [
        "import matplotlib.image as mpimg\n",
        "\n",
        "img = mpimg.imread ('/content/dog.jpeg')\n",
        "\n",
        "\n",
        "def rgb_to_avg(gray_img):\n",
        "    return np.mean(gray_img, axis=2)\n",
        "\n",
        "gray_img_02 = rgb_to_avg(img)\n",
        "\n",
        "print(\"Gray value at [0, 0]:\", gray_img_02[0, 0])"
      ],
      "metadata": {
        "colab": {
          "base_uri": "https://localhost:8080/"
        },
        "id": "EISSqKctjkW2",
        "outputId": "9cdd472b-e9ad-48a5-c840-9cfc1b884741"
      },
      "execution_count": 3,
      "outputs": [
        {
          "output_type": "stream",
          "name": "stdout",
          "text": [
            "Gray value at [0, 0]: 107.66666666666667\n"
          ]
        }
      ]
    },
    {
      "cell_type": "code",
      "source": [
        "import matplotlib.image as mpimg\n",
        "\n",
        "img = mpimg.imread ('/content/dog.jpeg')\n",
        "\n",
        "def rgb_to_luminosity(gray_img):\n",
        "    return 0.21 * gray_img[:, :, 0] + 0.72 * gray_img[:, :, 1] + 0.07 * gray_img[:, :, 2]\n",
        "gray_img_03 = rgb_to_luminosity(img)\n",
        "\n",
        "print (\"Gray value at [0,0]:\" , gray_img_03 [0 , 0])"
      ],
      "metadata": {
        "colab": {
          "base_uri": "https://localhost:8080/"
        },
        "id": "XOSITbezlZYT",
        "outputId": "009157f0-20a9-4673-adde-3579dfce93fd"
      },
      "execution_count": 4,
      "outputs": [
        {
          "output_type": "stream",
          "name": "stdout",
          "text": [
            "Gray value at [0,0]: 126.22999999999999\n"
          ]
        }
      ]
    },
    {
      "cell_type": "code",
      "source": [
        "!gdown 1iA0WmVfW88HyJvTBSQDI5vesf-pgKabq\n",
        "import pandas as pd\n",
        "import numpy as np\n",
        "\n",
        "# Đọc dữ liệu từ tệp CSV\n",
        "df = pd.read_csv('advertising.csv')\n",
        "\n",
        "# Chuyển đổi DataFrame thành mảng numpy\n",
        "data = df.to_numpy()\n",
        "\n",
        "# Lấy cột Sales\n",
        "sales = data[:, 3]\n",
        "\n",
        "# Tìm giá trị lớn nhất và chỉ mục tương ứng của cột Sales\n",
        "max_sales = np.max(sales)\n",
        "max_index = np.argmax(sales)\n",
        "\n",
        "print(f\"Max: {max_sales} - Index: {max_index}\")\n",
        "\n",
        "# Lấy cột TV\n",
        "tv = data[:, 0]\n",
        "\n",
        "# Tính giá trị trung bình của cột TV\n",
        "mean_tv = np.mean(tv)\n",
        "\n",
        "print(f\"Giá trị trung bình TV: {mean_tv}\")\n",
        "\n",
        "# Số lượng bản ghi có giá trị tại cột Sales lớn hơn hoặc bằng 20\n",
        "count_sales_ge_20 = np.sum(sales >= 20)\n",
        "\n",
        "print(f\"Số lượng bản ghi có giá trị tại cột Sales lớn hơn hoặc bằng 20: {count_sales_ge_20}\")\n",
        "\n",
        "# Lấy cột Radio\n",
        "radio = data[:, 1]\n",
        "\n",
        "# Tính giá trị trung bình của cột Radio thỏa mãn điều kiện trên cột Sales lớn hơn hoặc bằng 15\n",
        "mean_radio_sales_ge_15 = np.mean(radio[sales >= 15])\n",
        "\n",
        "print(f\"Giá trị trung bình của cột Radio thỏa mãn điều kiện giá trị tương ứng trên cột Sales lớn hơn hoặc bằng 15: {mean_radio_sales_ge_15}\")\n",
        "\n",
        "# Lấy cột Newspaper\n",
        "newspaper = data[:, 2]\n",
        "\n",
        "# Tính giá trị trung bình của cột Newspaper\n",
        "mean_newspaper = np.mean(newspaper)\n",
        "\n",
        "# Tính tổng các hàng của cột Sales với điều kiện giá trị Newspaper lớn hơn giá trị trung bình của cột Newspaper\n",
        "total_sales_newspaper_gt_mean = np.sum(sales[newspaper > mean_newspaper])\n",
        "\n",
        "print(f\"Tổng các hàng của cột Sales với điều kiện giá trị Newspaper lớn hơn giá trị trung bình của cột Newspaper: {total_sales_newspaper_gt_mean}\")\n",
        "\n",
        "\n",
        "# 20 Tính giá trị trung bình của cột Sales\n",
        "mean_sales = np.mean(sales)\n",
        "\n",
        "# Tạo mảng scores chứa các giá trị Good, Average và Bad\n",
        "scores = ['Good' if value > mean_sales else 'Bad' if value < mean_sales else 'Average' for value in sales]\n",
        "\n",
        "# In ra kết quả scores[7:10]\n",
        "print(scores[7:10])\n",
        "\n",
        "\n",
        "\n",
        "# 21: Tìm giá trị trên cột Sales gần nhất với giá trị trung bình\n",
        "A = sales[np.abs(sales - mean_sales).argmin()]\n",
        "\n",
        "print(f\"Giá trị gần nhất với trung bình của cột Sales: {A}\")\n",
        "\n",
        "# Tạo mảng scores chứa các giá trị Good, Average và Bad\n",
        "scores = ['Good' if value > A else 'Bad' if value < A else 'Average' for value in sales]\n",
        "\n",
        "# In ra kết quả scores[7:10]\n",
        "print(scores[7:10])\n",
        "\n"
      ],
      "metadata": {
        "colab": {
          "base_uri": "https://localhost:8080/"
        },
        "id": "bTFWX7r-mgoI",
        "outputId": "75f0a915-dc9e-4969-e906-883291a993e3"
      },
      "execution_count": 10,
      "outputs": [
        {
          "output_type": "stream",
          "name": "stdout",
          "text": [
            "Downloading...\n",
            "From: https://drive.google.com/uc?id=1iA0WmVfW88HyJvTBSQDI5vesf-pgKabq\n",
            "To: /content/advertising.csv\n",
            "\r  0% 0.00/4.06k [00:00<?, ?B/s]\r100% 4.06k/4.06k [00:00<00:00, 11.7MB/s]\n",
            "Max: 27.0 - Index: 175\n",
            "Giá trị trung bình TV: 147.0425\n",
            "Số lượng bản ghi có giá trị tại cột Sales lớn hơn hoặc bằng 20: 40\n",
            "Giá trị trung bình của cột Radio thỏa mãn điều kiện giá trị tương ứng trên cột Sales lớn hơn hoặc bằng 15: 26.22293577981651\n",
            "Tổng các hàng của cột Sales với điều kiện giá trị Newspaper lớn hơn giá trị trung bình của cột Newspaper: 1405.1\n",
            "['Bad', 'Bad', 'Good']\n",
            "Giá trị gần nhất với trung bình của cột Sales: 15.2\n",
            "['Bad', 'Bad', 'Good']\n"
          ]
        }
      ]
    }
  ]
}